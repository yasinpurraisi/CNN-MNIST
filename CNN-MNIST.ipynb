{
 "cells": [
  {
   "cell_type": "markdown",
   "id": "5b97304a",
   "metadata": {},
   "source": [
    "# Convolutional Neural Network on MNIST Database"
   ]
  },
  {
   "cell_type": "markdown",
   "id": "9c8149c9",
   "metadata": {},
   "source": [
    "In this project, i will use a Convolutional Neural Network to classify handwritten digits from the MNIST database.\n",
    "\n",
    "***Convolutional Neural Networks (CNNs) :***<br>\n",
    "CNNs are a specialized type of deep learning model designed for image recognition and classification tasks. Unlike traditional neural networks, CNNs can automatically detect and learn spatial patterns, such as edges, textures, and shapes, from images.\n",
    "- Convolutional layers: Apply filters to extract features from the image.\n",
    "- Pooling layers: Reduce the spatial size of feature maps, making computations efficient and reducing overfitting.\n",
    "- Fully connected layers: Combine the extracted features to classify the image into predefined categories.\n",
    "\n",
    "***MNIST (Modified National Institute of Standards and Technology) :***<br>\n",
    "MNIST is a classic benchmark dataset for image classification. It contains 70,000 grayscale images of handwritten digits (0–9), each sized 28×28 pixels. The dataset is divided into 60,000 training images and 10,000 test images."
   ]
  },
  {
   "cell_type": "markdown",
   "id": "202d54fb",
   "metadata": {},
   "source": [
    "### Import Required Libraries\n",
    "\n",
    "Let's start by importing all the necessary libraries for data processing, visualization, and building our model."
   ]
  },
  {
   "cell_type": "code",
   "execution_count": 1,
   "id": "9b1d06b2",
   "metadata": {},
   "outputs": [],
   "source": [
    "import torch\n",
    "import torch.nn as nn\n",
    "import torchvision.transforms as transforms\n",
    "import torchvision.datasets as dsets\n",
    "import matplotlib.pylab as plt\n",
    "import numpy as np"
   ]
  },
  {
   "cell_type": "markdown",
   "id": "6f30c5d4",
   "metadata": {},
   "source": [
    "### Data Preparation\n",
    "I create a transform <code>transf</code> to resize the image (originally 28x28) to 16x16 for faster processing. and convert it to a tensor."
   ]
  },
  {
   "cell_type": "code",
   "execution_count": 2,
   "id": "c288516a",
   "metadata": {},
   "outputs": [],
   "source": [
    "transf = transforms.Compose([transforms.Resize((16, 16)), transforms.ToTensor()])\n",
    "\n",
    "train_dataset = dsets.MNIST(root='./data', train=True, download=True, transform=transf) #training dataset\n",
    "validation_dataset = dsets.MNIST(root='./data', train=False, download=True, transform=transf) #testing dataset"
   ]
  },
  {
   "cell_type": "markdown",
   "id": "4f43cf32",
   "metadata": {},
   "source": [
    "### Convolutional Neural Network Architecture\n",
    "I create a Convolutional Network class with two Convolutional layers and one fully connected layer.\n",
    "Before creating the fully connected layer, we need to know how many features are coming out of the convolutional layers and Pre-determine the size of the final output matrix.<br>\n",
    "The channel width (output size of a convolution) is calculated as:\n",
    "$$W_{out}=\\frac{W_{in}-K+2P}{S}+1$$\n",
    "- $W_{in}$ = input width\n",
    "- K = kernel size\n",
    "- P = padding\n",
    "- S = stride\n",
    "\n",
    "After convolution layer, in max pooling we apply a 2x2 kernel and stride=2 (default for maxpool)<br>\n",
    "the input shape of this Neural Network is <code>(1,16,16)</code> because MNIST images are resized to <code>16x16</code> pixels, and are grayscale (<code>1</code> channel)."
   ]
  },
  {
   "cell_type": "code",
   "execution_count": null,
   "id": "a00f9152",
   "metadata": {},
   "outputs": [],
   "source": [
    "class CNN(nn.Module):\n",
    "    \n",
    "    def __init__(self, out_1=16, out_2=32):\n",
    "        super(CNN, self).__init__()\n",
    "        self.cnn1 = nn.Conv2d(in_channels=1, out_channels=out_1, kernel_size=5, stride=1, padding=2)\n",
    "        # output width = (16 - 5 + 2*2) / 1 + 1 = 16\n",
    "        # output shape = (16,16,16)\n",
    "        self.maxpool1=nn.MaxPool2d(kernel_size=2)\n",
    "        # output width = (16 - 2) / 2 + 1 = 8\n",
    "        # output shape = (16,8,8)\n",
    "\n",
    "        self.cnn2 = nn.Conv2d(in_channels=out_1, out_channels=out_2, kernel_size=5, stride=1, padding=2)\n",
    "        # output width = (8 - 5+ 2*2) / 1 + 1 = 8\n",
    "        # output shape = (32,8,8)\n",
    "        self.maxpool2=nn.MaxPool2d(kernel_size=2)\n",
    "        # output width = (8 - 2) / 2 + 1 = 4\n",
    "        # output shape = (32,4,4)\n",
    "\n",
    "        self.fc1 = nn.Linear(out_2 * 4 * 4, 10)\n",
    "        # input = 32 channels × 4 × 4 pixels = 512 features\n",
    "        # output= 10 classes (digits 0–9)\n",
    "    \n",
    "    def forward(self, x):\n",
    "        # Puts the X value through each cnn, relu, and pooling layer and it is flattened for input into the fully connected layer\n",
    "        x = self.cnn1(x)\n",
    "        x = torch.relu(x)\n",
    "        x = self.maxpool1(x)\n",
    "        x = self.cnn2(x)\n",
    "        x = torch.relu(x)\n",
    "        x = self.maxpool2(x)\n",
    "        x = x.view(x.size(0), -1)\n",
    "        x = self.fc1(x)\n",
    "        return x   "
   ]
  },
  {
   "cell_type": "markdown",
   "id": "d49e355f",
   "metadata": {},
   "source": [
    "### Define the Convolutional Neural Network Classifier, Criterion function, Optimizer\n"
   ]
  },
  {
   "cell_type": "code",
   "execution_count": 4,
   "id": "e25eba6d",
   "metadata": {},
   "outputs": [],
   "source": [
    "model = CNN(out_1=16, out_2=32) \n",
    "criterion = nn.CrossEntropyLoss() \n",
    "optimizer = torch.optim.SGD(model.parameters(), lr = 0.1)\n",
    "\n",
    "# Create a Data Loader for the training data with a batch size of 100 \n",
    "train_loader = torch.utils.data.DataLoader(dataset=train_dataset, batch_size=100)\n",
    "# Create a Data Loader for the validation data with a batch size of 5000 \n",
    "validation_loader = torch.utils.data.DataLoader(dataset=validation_dataset, batch_size=5000)"
   ]
  },
  {
   "cell_type": "markdown",
   "id": "190077d7",
   "metadata": {},
   "source": [
    "### Training the model"
   ]
  },
  {
   "cell_type": "code",
   "execution_count": 5,
   "id": "e0da13f3",
   "metadata": {},
   "outputs": [],
   "source": [
    "cost_list=[]\n",
    "accuracy_list=[]\n",
    "N_test=len(validation_dataset)\n",
    "\n",
    "def train_model(n_epochs):\n",
    "    for epoch in range(n_epochs):\n",
    "        COST=0\n",
    "        for x, y in train_loader:\n",
    "            # Resets the calculated gradient value\n",
    "            optimizer.zero_grad()\n",
    "            z = model(x)\n",
    "            loss = criterion(z, y)\n",
    "            # Calculates the gradient value\n",
    "            loss.backward()\n",
    "            # Updates the weight and bias\n",
    "            optimizer.step()\n",
    "\n",
    "            COST+=loss.data\n",
    "        \n",
    "        cost_list.append(COST)\n",
    "        correct=0\n",
    "        for x_test, y_test in validation_loader:\n",
    "            z = model(x_test)\n",
    "            # The class with the max value\n",
    "            _, yhat = torch.max(z.data, 1)\n",
    "            correct += (yhat == y_test).sum().item()\n",
    "        \n",
    "        accuracy = correct / N_test\n",
    "        accuracy_list.append(accuracy)\n",
    "     \n",
    "train_model(3)"
   ]
  },
  {
   "cell_type": "markdown",
   "id": "c153fea3",
   "metadata": {},
   "source": [
    "### Analyze Results"
   ]
  },
  {
   "cell_type": "code",
   "execution_count": 9,
   "id": "bd5b0a03",
   "metadata": {},
   "outputs": [
    {
     "data": {
      "image/png": "[encoded data removed]",
      "text/plain": [
       "<Figure size 640x480 with 2 Axes>"
      ]
     },
     "metadata": {},
     "output_type": "display_data"
    }
   ],
   "source": [
    "fig, ax1 = plt.subplots()\n",
    "color = 'tab:red'\n",
    "ax1.plot(cost_list, color=color)\n",
    "ax1.set_xlabel('epoch', color=color)\n",
    "ax1.set_ylabel('Cost', color=color)\n",
    "ax1.tick_params(axis='y', color=color)\n",
    "    \n",
    "ax2 = ax1.twinx()  \n",
    "color = 'tab:blue'\n",
    "ax2.set_ylabel('accuracy', color=color) \n",
    "ax2.set_xlabel('epoch', color=color)\n",
    "ax2.plot( accuracy_list, color=color)\n",
    "ax2.tick_params(axis='y', color=color)\n",
    "fig.tight_layout()"
   ]
  },
  {
   "cell_type": "markdown",
   "id": "c7df30ec",
   "metadata": {},
   "source": [
    "model accuracy"
   ]
  },
  {
   "cell_type": "code",
   "execution_count": 18,
   "id": "3b2b864e",
   "metadata": {},
   "outputs": [
    {
     "data": {
      "text/plain": [
       "97.87"
      ]
     },
     "execution_count": 18,
     "metadata": {},
     "output_type": "execute_result"
    }
   ],
   "source": [
    "accuracy_list[-1]*100"
   ]
  },
  {
   "cell_type": "markdown",
   "id": "e8898f1a",
   "metadata": {},
   "source": [
    "save the trained model"
   ]
  },
  {
   "cell_type": "code",
   "execution_count": 19,
   "id": "cda035e5",
   "metadata": {},
   "outputs": [
    {
     "name": "stdout",
     "output_type": "stream",
     "text": [
      "Model saved\n"
     ]
    }
   ],
   "source": [
    "torch.save(model.state_dict(), \"cnn_mnist_model.pth\")\n",
    "print(\"Model saved\")"
   ]
  },
  {
   "cell_type": "markdown",
   "id": "8e91fc62",
   "metadata": {},
   "source": [
    "## Conclusion\n",
    "\n",
    "In this project, i built a Convolutional Neural Network to classify handwritten digits from the MNIST dataset. the model achieved high accuracy (97.87) on the validation set.<br>\n",
    "The loss decreased steadily, indicating effective learning.Most misclassifications occurred on ambiguous digits.\n",
    "\n",
    "Thanks for following along!"
   ]
  },
  {
   "cell_type": "markdown",
   "id": "dd1738cc",
   "metadata": {},
   "source": [
    "## Credits\n",
    "\n",
    "Notebook created by [Yasin Pourraisi], September 2025."
   ]
  },
  {
   "cell_type": "markdown",
   "id": "45f27a2f",
   "metadata": {},
   "source": [
    "**Contact me:**  \n",
    "- GitHub: [yasinpurraisi](https://github.com/yasinpurraisi)  \n",
    "- Email: yasinpourraisi@gmail.com  \n",
    "- Telegram: [yasinprsy](https://t.me/yasinprsy)\n"
   ]
  }
 ],
 "metadata": {
  "kernelspec": {
   "display_name": "Python 3",
   "language": "python",
   "name": "python3"
  },
  "language_info": {
   "codemirror_mode": {
    "name": "ipython",
    "version": 3
   },
   "file_extension": ".py",
   "mimetype": "text/x-python",
   "name": "python",
   "nbconvert_exporter": "python",
   "pygments_lexer": "ipython3",
   "version": "3.13.5"
  }
 },
 "nbformat": 4,
 "nbformat_minor": 5
}
